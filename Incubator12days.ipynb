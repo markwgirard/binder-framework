{
 "cells": [
  {
   "cell_type": "markdown",
   "id": "23bccd16-8f3c-4cb3-9672-6e097c219f8a",
   "metadata": {},
   "source": [
    "# Incubator 12-day program \n",
    "Action items"
   ]
  },
  {
   "cell_type": "code",
   "execution_count": 1,
   "id": "0e0ae2bf-1814-49f9-9e2c-6802f4358173",
   "metadata": {},
   "outputs": [],
   "source": [
    "import pandas as pd\n",
    "import numpy as np\n",
    "from matplotlib import pyplot as plt"
   ]
  },
  {
   "cell_type": "markdown",
   "id": "faaadbc1-83a4-43ed-98f2-8f68c4081f27",
   "metadata": {},
   "source": [
    "### Day 4\n",
    "\n",
    "Value of Energy Cost Saving Program\n",
    "\n",
    "Download the data set about [Value of Energy Cost Saving Program](https://data.cityofnewyork.us/City-Government/Value-of-Energy-Cost-Savings-Program-Savings-for-B/bug8-9f3g) for businesses in New York City (under the \"Export\" option, there is a way to retrieve a CSV file). "
   ]
  },
  {
   "cell_type": "code",
   "execution_count": 2,
   "id": "176a89b8-42c0-48f5-9532-919608f28acb",
   "metadata": {},
   "outputs": [],
   "source": [
    "df = pd.read_csv(\"Value_of_Energy_Cost_Savings_Program_Savings_for_Businesses_-_FY2020.csv\")\n",
    "df_data = df"
   ]
  },
  {
   "cell_type": "markdown",
   "id": "1bad4447-d0c1-4e44-87ab-ac1b9a96824d",
   "metadata": {},
   "source": [
    "How many different companies are represented in the data set?"
   ]
  },
  {
   "cell_type": "code",
   "execution_count": 3,
   "id": "1a255326-24d2-4359-9d4d-20408458efdd",
   "metadata": {},
   "outputs": [
    {
     "data": {
      "text/plain": [
       "439"
      ]
     },
     "execution_count": 3,
     "metadata": {},
     "output_type": "execute_result"
    }
   ],
   "source": [
    "df = df_data\n",
    "df[\"Company Name\"].nunique()"
   ]
  },
  {
   "cell_type": "markdown",
   "id": "4854d34f-9c9f-48e4-b12f-930e6607ffe5",
   "metadata": {},
   "source": [
    "What is the total number of jobs created for businesses in Queens?"
   ]
  },
  {
   "cell_type": "code",
   "execution_count": 5,
   "id": "360539ff-55b4-4677-8127-701ace82aa0b",
   "metadata": {},
   "outputs": [
    {
     "data": {
      "text/plain": [
       "102.0"
      ]
     },
     "execution_count": 5,
     "metadata": {},
     "output_type": "execute_result"
    }
   ],
   "source": [
    "df = df_data\n",
    "(df.loc[df['Borough']==\"Queens\"])[\"Job created\"].sum()"
   ]
  },
  {
   "cell_type": "markdown",
   "id": "927d2f66-7d7b-4515-9c9e-26da6a7f7e03",
   "metadata": {},
   "source": [
    "How many different unique email domains names are there in the data set?"
   ]
  },
  {
   "cell_type": "code",
   "execution_count": 6,
   "id": "90e20b79-c34a-4f49-834b-9d139bd6a80c",
   "metadata": {},
   "outputs": [
    {
     "data": {
      "text/plain": [
       "361"
      ]
     },
     "execution_count": 6,
     "metadata": {},
     "output_type": "execute_result"
    }
   ],
   "source": [
    "df = df_data\n",
    "df[\"company email\"].str.split(\"@\").str[-1].dropna().nunique()"
   ]
  },
  {
   "cell_type": "markdown",
   "id": "38afdd9e-145e-483d-ba7b-cc7ac97cc455",
   "metadata": {},
   "source": [
    "Considering only NTAs with at least 5 listed businesses, what is the average total savings and the total jobs created for each NTA?"
   ]
  },
  {
   "cell_type": "code",
   "execution_count": 7,
   "id": "938d2c5d-2d2d-4c07-9938-3932c59bf48c",
   "metadata": {},
   "outputs": [],
   "source": [
    "df = df_data\n",
    "df = df.groupby(\"NTA\").agg(avg_total_savings=(\"Total Savings\",np.mean), tot_jobs_created=(\"Job created\", sum), num_businesses=(\"Company Name\",\"count\"))\n",
    "df_nta = df"
   ]
  },
  {
   "cell_type": "code",
   "execution_count": 8,
   "id": "082bb7f7-f56a-423d-a6f3-d61072e71aa4",
   "metadata": {},
   "outputs": [],
   "source": [
    "#df.groupby(\"NTA\").agg({\"Total Savings\":np.mean, \"Job created\":sum, \"Company Name\":'nunique'}).rename(columns=[\"Avg Total Savings\", \"Total Jobs Created\", \"Num Businesses\"])"
   ]
  },
  {
   "cell_type": "code",
   "execution_count": 9,
   "id": "8b9056a3-82ba-4e8b-856f-15c320fd9285",
   "metadata": {},
   "outputs": [
    {
     "data": {
      "text/html": [
       "<div>\n",
       "<style scoped>\n",
       "    .dataframe tbody tr th:only-of-type {\n",
       "        vertical-align: middle;\n",
       "    }\n",
       "\n",
       "    .dataframe tbody tr th {\n",
       "        vertical-align: top;\n",
       "    }\n",
       "\n",
       "    .dataframe thead th {\n",
       "        text-align: right;\n",
       "    }\n",
       "</style>\n",
       "<table border=\"1\" class=\"dataframe\">\n",
       "  <thead>\n",
       "    <tr style=\"text-align: right;\">\n",
       "      <th></th>\n",
       "      <th>avg_total_savings</th>\n",
       "      <th>tot_jobs_created</th>\n",
       "      <th>num_businesses</th>\n",
       "    </tr>\n",
       "    <tr>\n",
       "      <th>NTA</th>\n",
       "      <th></th>\n",
       "      <th></th>\n",
       "      <th></th>\n",
       "    </tr>\n",
       "  </thead>\n",
       "  <tbody>\n",
       "    <tr>\n",
       "      <th>Astoria</th>\n",
       "      <td>11409.986667</td>\n",
       "      <td>0.0</td>\n",
       "      <td>3</td>\n",
       "    </tr>\n",
       "    <tr>\n",
       "      <th>Baisley Park</th>\n",
       "      <td>21522.740000</td>\n",
       "      <td>0.0</td>\n",
       "      <td>1</td>\n",
       "    </tr>\n",
       "    <tr>\n",
       "      <th>Battery Park City-Lower Manhattan</th>\n",
       "      <td>469890.796667</td>\n",
       "      <td>0.0</td>\n",
       "      <td>9</td>\n",
       "    </tr>\n",
       "    <tr>\n",
       "      <th>Bedford</th>\n",
       "      <td>62113.343333</td>\n",
       "      <td>0.0</td>\n",
       "      <td>3</td>\n",
       "    </tr>\n",
       "    <tr>\n",
       "      <th>Bensonhurst West</th>\n",
       "      <td>-379.470000</td>\n",
       "      <td>0.0</td>\n",
       "      <td>1</td>\n",
       "    </tr>\n",
       "  </tbody>\n",
       "</table>\n",
       "</div>"
      ],
      "text/plain": [
       "                                   avg_total_savings  tot_jobs_created  \\\n",
       "NTA                                                                      \n",
       "Astoria                                 11409.986667               0.0   \n",
       "Baisley Park                            21522.740000               0.0   \n",
       "Battery Park City-Lower Manhattan      469890.796667               0.0   \n",
       "Bedford                                 62113.343333               0.0   \n",
       "Bensonhurst West                         -379.470000               0.0   \n",
       "\n",
       "                                   num_businesses  \n",
       "NTA                                                \n",
       "Astoria                                         3  \n",
       "Baisley Park                                    1  \n",
       "Battery Park City-Lower Manhattan               9  \n",
       "Bedford                                         3  \n",
       "Bensonhurst West                                1  "
      ]
     },
     "execution_count": 9,
     "metadata": {},
     "output_type": "execute_result"
    }
   ],
   "source": [
    "df = df_nta\n",
    "df.loc[df.num_businesses>=5]\n",
    "df.to_csv(\"milestone_action_item_day4.csv\")\n",
    "df.head()"
   ]
  },
  {
   "cell_type": "code",
   "execution_count": 13,
   "id": "8b2c00d6-e7ff-45b6-931b-0b76a90b1efc",
   "metadata": {},
   "outputs": [
    {
     "data": {
      "text/plain": [
       "<AxesSubplot:xlabel='tot_jobs_created', ylabel='avg_total_savings'>"
      ]
     },
     "execution_count": 13,
     "metadata": {},
     "output_type": "execute_result"
    },
    {
     "data": {
      "image/png": "[encoded data removed]",
      "text/plain": [
       "<Figure size 360x720 with 2 Axes>"
      ]
     },
     "metadata": {
      "needs_background": "light"
     },
     "output_type": "display_data"
    }
   ],
   "source": [
    "df = df_nta\n",
    "\n",
    "fig, ax = plt.subplots(2,1, figsize=(5, 10))\n",
    "df.plot.scatter(ax=ax[0], x=\"tot_jobs_created\", y=\"avg_total_savings\")\n",
    "df.plot.scatter(ax=ax[1], x=\"tot_jobs_created\", y=\"avg_total_savings\", logy=True)"
   ]
  },
  {
   "cell_type": "code",
   "execution_count": 15,
   "id": "6bf30760-6329-41f9-84bf-cb1dc68c33cf",
   "metadata": {},
   "outputs": [],
   "source": [
    "import seaborn as sns\n",
    "sns.set_theme(color_codes=True)"
   ]
  },
  {
   "cell_type": "code",
   "execution_count": 22,
   "id": "3d3e20b2-0009-44bf-9a31-a8b0260322e8",
   "metadata": {},
   "outputs": [
    {
     "data": {
      "text/plain": [
       "[None]"
      ]
     },
     "execution_count": 22,
     "metadata": {},
     "output_type": "execute_result"
    },
    {
     "data": {
      "image/png": "[encoded data removed]",
      "text/plain": [
       "<Figure size 360x720 with 2 Axes>"
      ]
     },
     "metadata": {},
     "output_type": "display_data"
    }
   ],
   "source": [
    "fig, ax = plt.subplots(2,1, figsize=(5, 10), sharex=True)\n",
    "for a in ax:\n",
    "    sns.scatterplot(ax=a, data=df_nta, x=\"tot_jobs_created\", y=\"avg_total_savings\")\n",
    "ax[0].set(yscale='log')"
   ]
  },
  {
   "cell_type": "code",
   "execution_count": 45,
   "id": "97267ceb-88b9-49cc-baf7-fa613e49ba68",
   "metadata": {},
   "outputs": [
    {
     "data": {
      "text/plain": [
       "<AxesSubplot:ylabel='Frequency'>"
      ]
     },
     "execution_count": 45,
     "metadata": {},
     "output_type": "execute_result"
    },
    {
     "data": {
      "image/png": "[encoded data removed]",
      "text/plain": [
       "<Figure size 432x288 with 1 Axes>"
      ]
     },
     "metadata": {},
     "output_type": "display_data"
    }
   ],
   "source": [
    "s = df_nta.avg_total_savings\n",
    "np.log(s[s>0]).plot.hist()"
   ]
  },
  {
   "cell_type": "code",
   "execution_count": 42,
   "id": "bf03acc9-0ded-4db0-afd8-78502c96bcec",
   "metadata": {},
   "outputs": [
    {
     "data": {
      "text/plain": [
       "<AxesSubplot:xlabel='Effective Date'>"
      ]
     },
     "execution_count": 42,
     "metadata": {},
     "output_type": "execute_result"
    },
    {
     "data": {
      "image/png": "[encoded data removed]",
      "text/plain": [
       "<Figure size 432x288 with 1 Axes>"
      ]
     },
     "metadata": {},
     "output_type": "display_data"
    }
   ],
   "source": [
    "df = df_data\n",
    "df['Effective Date'] = pd.to_datetime(df['Effective Date'], infer_datetime_format=True)  \n",
    "df = df.sort_values('Effective Date')\n",
    "s = df.groupby(pd.Grouper(key='Effective Date', freq='1M'))['Job created'].sum()\n",
    "s.plot.line()"
   ]
  },
  {
   "cell_type": "code",
   "execution_count": 38,
   "id": "caeabd23-a815-4d17-a124-b01f21736576",
   "metadata": {},
   "outputs": [],
   "source": []
  },
  {
   "cell_type": "code",
   "execution_count": null,
   "id": "53329258-52a5-4052-8357-7b1fa1c4b73a",
   "metadata": {},
   "outputs": [],
   "source": []
  }
 ],
 "metadata": {
  "environment": {
   "kernel": "python3",
   "name": "common-cpu.m93",
   "type": "gcloud",
   "uri": "gcr.io/deeplearning-platform-release/base-cpu:m93"
  },
  "kernelspec": {
   "display_name": "Python 3 (ipykernel)",
   "language": "python",
   "name": "python3"
  },
  "language_info": {
   "codemirror_mode": {
    "name": "ipython",
    "version": 3
   },
   "file_extension": ".py",
   "mimetype": "text/x-python",
   "name": "python",
   "nbconvert_exporter": "python",
   "pygments_lexer": "ipython3",
   "version": "3.7.12"
  }
 },
 "nbformat": 4,
 "nbformat_minor": 5
}
